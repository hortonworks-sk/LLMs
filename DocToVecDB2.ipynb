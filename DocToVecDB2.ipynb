{
 "cells": [
  {
   "cell_type": "code",
   "execution_count": 1,
   "id": "29791da6-41dc-465e-9730-a0f5ab91b1ed",
   "metadata": {
    "tags": []
   },
   "outputs": [],
   "source": [
    "import pickle"
   ]
  },
  {
   "cell_type": "code",
   "execution_count": 2,
   "id": "797eccae-2a39-4a31-a8fe-e204f020e0fa",
   "metadata": {
    "tags": []
   },
   "outputs": [],
   "source": [
    "filename = \"documents.pkl\"\n",
    "filepath = \"\"\n",
    "fileuri = filepath+filename"
   ]
  },
  {
   "cell_type": "code",
   "execution_count": 3,
   "id": "f2d1bd29-75b9-404f-ba5a-775217a72952",
   "metadata": {
    "tags": []
   },
   "outputs": [],
   "source": [
    "with open(fileuri, 'rb') as documents: \n",
    "    docs = pickle.load(documents)"
   ]
  },
  {
   "cell_type": "code",
   "execution_count": 4,
   "id": "6bd22659-b82f-4877-8d10-cdb6a9694a6c",
   "metadata": {
    "tags": []
   },
   "outputs": [
    {
     "data": {
      "application/vnd.jupyter.widget-view+json": {
       "model_id": "894260dc981c425ebeb57d3e08d318da",
       "version_major": 2,
       "version_minor": 0
      },
      "text/plain": [
       "config.json:   0%|          | 0.00/684 [00:00<?, ?B/s]"
      ]
     },
     "metadata": {},
     "output_type": "display_data"
    },
    {
     "data": {
      "application/vnd.jupyter.widget-view+json": {
       "model_id": "cfbd5eba4ce54e9e95707fc6d6222844",
       "version_major": 2,
       "version_minor": 0
      },
      "text/plain": [
       "model.safetensors:   0%|          | 0.00/133M [00:00<?, ?B/s]"
      ]
     },
     "metadata": {},
     "output_type": "display_data"
    },
    {
     "data": {
      "application/vnd.jupyter.widget-view+json": {
       "model_id": "ab0d468c9034408e9a6f95cf2d08d4d1",
       "version_major": 2,
       "version_minor": 0
      },
      "text/plain": [
       "tokenizer_config.json:   0%|          | 0.00/366 [00:00<?, ?B/s]"
      ]
     },
     "metadata": {},
     "output_type": "display_data"
    },
    {
     "data": {
      "application/vnd.jupyter.widget-view+json": {
       "model_id": "0bdc530cd23c46deaf6591c8daded82e",
       "version_major": 2,
       "version_minor": 0
      },
      "text/plain": [
       "vocab.txt:   0%|          | 0.00/232k [00:00<?, ?B/s]"
      ]
     },
     "metadata": {},
     "output_type": "display_data"
    },
    {
     "data": {
      "application/vnd.jupyter.widget-view+json": {
       "model_id": "193c4e76ba6741b09e52bf7c0e3956b1",
       "version_major": 2,
       "version_minor": 0
      },
      "text/plain": [
       "tokenizer.json:   0%|          | 0.00/711k [00:00<?, ?B/s]"
      ]
     },
     "metadata": {},
     "output_type": "display_data"
    },
    {
     "data": {
      "application/vnd.jupyter.widget-view+json": {
       "model_id": "4d80b8570869475796480fcb8a262210",
       "version_major": 2,
       "version_minor": 0
      },
      "text/plain": [
       "special_tokens_map.json:   0%|          | 0.00/125 [00:00<?, ?B/s]"
      ]
     },
     "metadata": {},
     "output_type": "display_data"
    }
   ],
   "source": [
    "from llama_index.llms import HuggingFaceLLM\n",
    "from llama_index.text_splitter import SentenceSplitter\n",
    "from llama_index import VectorStoreIndex, ServiceContext\n",
    "\n",
    "text_splitter = SentenceSplitter(\n",
    "    chunk_size=200,\n",
    "    chunk_overlap=20,\n",
    ")\n",
    "\n",
    "generate_kwargs={\"temperature\": 0.7, \n",
    "                 \"do_sample\": True, \n",
    "                 \"top_k\": 50, \n",
    "                 \"top_p\": 0.70\n",
    "                }\n",
    "\n",
    "llm = HuggingFaceLLM(\n",
    "    context_window=\t2048,\n",
    "    max_new_tokens=256,\n",
    "    generate_kwargs= generate_kwargs,\n",
    "    tokenizer_name=\"TinyLlama/TinyLlama-1.1B-Chat-v1.0\",\n",
    "    model_name=\"TinyLlama/TinyLlama-1.1B-Chat-v1.0\",\n",
    "    device_map=\"auto\",\n",
    "    tokenizer_kwargs={\"max_length\": 2048},\n",
    "    # uncomment this if using CUDA to reduce memory usage\n",
    "    # model_kwargs={\"torch_dtype\": torch.float16}\n",
    ")\n",
    "\n",
    "service_context = ServiceContext.from_defaults(llm = llm, \n",
    "                                               text_splitter = text_splitter, \n",
    "                                               embed_model=\"local\")\n",
    "\n",
    "index = VectorStoreIndex.from_documents(\n",
    "    docs, service_context=service_context\n",
    ")\n",
    "\n"
   ]
  },
  {
   "cell_type": "code",
   "execution_count": 5,
   "id": "41b3059e-2471-4bf2-86d6-9863a10ac40d",
   "metadata": {
    "tags": []
   },
   "outputs": [
    {
     "data": {
      "text/plain": [
       "<llama_index.indices.vector_store.base.VectorStoreIndex at 0x7f4bc1ea4d30>"
      ]
     },
     "execution_count": 5,
     "metadata": {},
     "output_type": "execute_result"
    }
   ],
   "source": [
    "index"
   ]
  },
  {
   "cell_type": "code",
   "execution_count": 6,
   "id": "19510cae-215a-48b9-aea8-2e62b2bde50b",
   "metadata": {
    "tags": []
   },
   "outputs": [
    {
     "name": "stderr",
     "output_type": "stream",
     "text": [
      "huggingface/tokenizers: The current process just got forked, after parallelism has already been used. Disabling parallelism to avoid deadlocks...\n",
      "To disable this warning, you can either:\n",
      "\t- Avoid using `tokenizers` before the fork if possible\n",
      "\t- Explicitly set the environment variable TOKENIZERS_PARALLELISM=(true | false)\n"
     ]
    }
   ],
   "source": [
    "import pymilvus\n",
    "from milvus import default_server\n",
    "from llama_index.vector_stores import MilvusVectorStore\n",
    "from pymilvus import connections, Collection, utility\n",
    "\n",
    "# Start Milvus Vector DB\n",
    "default_server.stop()\n",
    "default_server.set_base_dir('milvus-data')\n",
    "default_server.start()"
   ]
  },
  {
   "cell_type": "code",
   "execution_count": 7,
   "id": "02ffcbdb-b548-4bed-bf44-93cae10bdb4d",
   "metadata": {
    "tags": []
   },
   "outputs": [],
   "source": [
    "import milvus\n",
    "from llama_index.vector_stores import MilvusVectorStore\n",
    "from llama_index.storage.storage_context import StorageContext\n",
    "\n",
    "# vector_store = MilvusVectorStore(dim=2048, overwrite=True)\n",
    "\n",
    "# vector_store = MilvusVectorStore(dim=2048, overwrite=True)\n",
    "vector_store = MilvusVectorStore(dim=384, overwrite=True)\n"
   ]
  },
  {
   "cell_type": "code",
   "execution_count": 21,
   "id": "8b221fe2-0daf-4bf5-820b-ffd7080c5120",
   "metadata": {
    "tags": []
   },
   "outputs": [],
   "source": [
    "storage_context = StorageContext.from_defaults(vector_store=vector_store)"
   ]
  },
  {
   "cell_type": "code",
   "execution_count": 9,
   "id": "2aafef15-a502-48e3-8658-94da9deab74d",
   "metadata": {
    "tags": []
   },
   "outputs": [],
   "source": [
    "index = VectorStoreIndex.from_documents(\n",
    "    docs, storage_context=storage_context, service_context=service_context\n",
    ")"
   ]
  },
  {
   "cell_type": "code",
   "execution_count": 10,
   "id": "10069eea-f539-4edd-83f3-4e2168ddddfb",
   "metadata": {
    "tags": []
   },
   "outputs": [
    {
     "name": "stdout",
     "output_type": "stream",
     "text": [
      "Res: \n",
      "LlamaIndex is a data framework for LLM-based applications to ingest, structure, and access private or domain-specific data. It’s available in Python (these docs) and Typescript. LlamaIndex provides tools for beginners, advanced users, and everyone in between.\n"
     ]
    }
   ],
   "source": [
    "query_engine = index.as_query_engine()\n",
    "res = query_engine.query(\"What is LlamaIndex?\")\n",
    "print(\"Res:\", res)"
   ]
  },
  {
   "cell_type": "markdown",
   "id": "97e1885c-49b6-4f28-b558-88f49d61134e",
   "metadata": {
    "tags": []
   },
   "source": [
    "LlamaIndex is a data framework for LLM-based applications to ingest, structure, and access private or domain-specific data. It’s available in Python (these docs) and Typescript. LlamaIndex is designed for beginners, advanced users, and everyone in between. Its high-level API allows for easy ingestion and querying of data in 5 lines of code. Its lower-level APIs allow for customization and extension to fit complex applications."
   ]
  },
  {
   "cell_type": "code",
   "execution_count": 11,
   "id": "bb1c5739-fb74-4df4-b124-87f9a39386aa",
   "metadata": {
    "tags": []
   },
   "outputs": [
    {
     "data": {
      "text/plain": [
       "Document(id_='398cc74a-580d-41c2-a85f-0b980e4ff0ef', embedding=None, metadata={'url': 'https://gpt-index.readthedocs.io/en/latest'}, excluded_embed_metadata_keys=[], excluded_llm_metadata_keys=[], relationships={}, hash='767b9945a76c081d709c631a4c4bd5ea20b3b2ca30c6b52133fa78638aab3be3', text='LlamaIndex is a data framework for LLM-based applications to ingest, structure, and access private or domain-specific data. It’s available in Python (these docs) and Typescript.\\n🚀 Why LlamaIndex?\\uf0c1\\nLLMs offer a natural language interface between humans and data. Widely available models come pre-trained on huge amounts of publicly available data like Wikipedia, mailing lists, textbooks, source code and more.\\nHowever, while LLMs are trained on a great deal of data, they are not trained on your data, which may be private or specific to the problem you’re trying to solve. It’s behind APIs, in SQL databases, or trapped in PDFs and slide decks.\\nYou may choose to fine-tune a LLM with your data, but:\\nTraining a LLM is expensive.\\nDue to the cost to train, it’s hard to update a LLM with latest information.\\nObservability is lacking. When you ask a LLM a question, it’s not obvious how the LLM arrived at its answer.\\nLlamaIndex takes a different approach called Retrieval-Augmented Generation (RAG). Instead of asking LLM to generate an answer immediately, LlamaIndex:\\nretrieves information from your data sources first,\\nadds it to your question as context, and\\nasks the LLM to answer based on the enriched prompt.\\nRAG overcomes all three weaknesses of the fine-tuning approach:\\nThere’s no training involved, so it’s cheap.\\nData is fetched only when you ask for them, so it’s always up to date.\\nLlamaIndex can show you the retrieved documents, so it’s more trustworthy.\\nLlamaIndex imposes no restriction on how you use LLMs. You can still use LLMs as auto-complete, chatbots, semi-autonomous agents, and more (see Use Cases on the left). It only makes LLMs more relevant to you.\\n🦙 How can LlamaIndex help?\\uf0c1\\nLlamaIndex provides the following tools:\\nData connectors ingest your existing data from their native source and format. These could be APIs, PDFs, SQL, and (much) more.\\nData indexes structure your data in intermediate representations that are easy and performant for LLMs to consume.\\nEngines provide natural language access to your data. For example:\\nQuery engines are powerful retrieval interfaces for knowledge-augmented output.\\nChat engines are conversational interfaces for multi-message, “back and forth” interactions with your data.\\nData agents are LLM-powered knowledge workers augmented by tools, from simple helper functions to API integrations and more.\\nApplication integrations tie LlamaIndex back into the rest of your ecosystem. This could be LangChain, Flask, Docker, ChatGPT, or… anything else!\\n👨\\u200d👩\\u200d👧\\u200d👦 Who is LlamaIndex for?\\uf0c1\\nLlamaIndex provides tools for beginners, advanced users, and everyone in between.\\nOur high-level API allows beginner users to use LlamaIndex to ingest and query their data in 5 lines of code.\\nFor more complex applications, our lower-level APIs allow advanced users to customize and extend any module—data connectors, indices, retrievers, query engines, reranking modules—to fit their needs.\\nGetting Started\\uf0c1\\nTo install the library:\\npip install llama-index\\nWe recommend starting at how to read these docs, which will point you to the right place based on your experience level.\\n🗺️ Ecosystem\\uf0c1\\nTo download or contribute, find LlamaIndex on:\\nGithub: https://github.com/jerryjliu/llama_index\\nPyPi:\\nLlamaIndex: https://pypi.org/project/llama-index/.\\nGPT Index (duplicate): https://pypi.org/project/gpt-index/.\\nNPM (Typescript/Javascript):\\nGithub: https://github.com/run-llama/LlamaIndexTS\\nDocs: https://ts.llamaindex.ai/\\nLlamaIndex.TS: https://www.npmjs.com/package/llamaindex\\nAssociated projects\\uf0c1\\n🏡 LlamaHub: https://llamahub.ai | A large (and growing!) collection of custom data connectors\\n🧪 LlamaLab: https://github.com/run-llama/llama-lab | Ambitious projects built on top of LlamaIndex', start_char_idx=None, end_char_idx=None, text_template='{metadata_str}\\n\\n{content}', metadata_template='{key}: {value}', metadata_seperator='\\n')"
      ]
     },
     "execution_count": 11,
     "metadata": {},
     "output_type": "execute_result"
    }
   ],
   "source": [
    "docs[0]"
   ]
  },
  {
   "cell_type": "code",
   "execution_count": 12,
   "id": "d1032f2b-1d98-4af2-930d-97a5ae667815",
   "metadata": {
    "tags": []
   },
   "outputs": [],
   "source": [
    "connection = connections.connect(\"default\", host=\"localhost\", port=\"19530\")\n"
   ]
  },
  {
   "cell_type": "code",
   "execution_count": 33,
   "id": "ddc64051-2318-4fab-b90f-b38306f106b0",
   "metadata": {
    "tags": []
   },
   "outputs": [
    {
     "data": {
      "text/plain": [
       "['llamalection', 'book']"
      ]
     },
     "execution_count": 33,
     "metadata": {},
     "output_type": "execute_result"
    }
   ],
   "source": [
    "utility.list_collections()"
   ]
  },
  {
   "cell_type": "code",
   "execution_count": 14,
   "id": "c85b6668-a448-4636-afef-9434fee2eecb",
   "metadata": {
    "tags": []
   },
   "outputs": [
    {
     "data": {
      "text/plain": [
       "{'auto_id': False, 'description': '', 'fields': [{'name': 'id', 'description': '', 'type': <DataType.VARCHAR: 21>, 'params': {'max_length': 65535}, 'is_primary': True, 'auto_id': False}, {'name': 'embedding', 'description': '', 'type': <DataType.FLOAT_VECTOR: 101>, 'params': {'dim': 384}}], 'enable_dynamic_field': True}"
      ]
     },
     "execution_count": 14,
     "metadata": {},
     "output_type": "execute_result"
    }
   ],
   "source": [
    "collection = Collection(\"llamalection\")\n",
    "collection.schema"
   ]
  },
  {
   "cell_type": "code",
   "execution_count": 15,
   "id": "c03c5667-ebb9-4595-bdd3-ef2c53d8aff1",
   "metadata": {
    "tags": []
   },
   "outputs": [
    {
     "data": {
      "text/plain": [
       "68"
      ]
     },
     "execution_count": 15,
     "metadata": {},
     "output_type": "execute_result"
    }
   ],
   "source": [
    "collection.num_entities"
   ]
  },
  {
   "cell_type": "code",
   "execution_count": 38,
   "id": "0530bf7c-5d8f-4436-8434-71422de6a5be",
   "metadata": {
    "tags": []
   },
   "outputs": [
    {
     "data": {
      "text/plain": [
       "{'collection_name': 'llamalection',\n",
       " 'auto_id': False,\n",
       " 'num_shards': 1,\n",
       " 'description': '',\n",
       " 'fields': [{'field_id': 100,\n",
       "   'name': 'id',\n",
       "   'description': '',\n",
       "   'type': 21,\n",
       "   'params': {'max_length': 65535},\n",
       "   'element_type': 0,\n",
       "   'is_primary': True},\n",
       "  {'field_id': 101,\n",
       "   'name': 'embedding',\n",
       "   'description': '',\n",
       "   'type': 101,\n",
       "   'params': {'dim': 384},\n",
       "   'element_type': 0}],\n",
       " 'aliases': [],\n",
       " 'collection_id': 447388412255404206,\n",
       " 'consistency_level': 0,\n",
       " 'properties': {},\n",
       " 'num_partitions': 1,\n",
       " 'enable_dynamic_field': True}"
      ]
     },
     "execution_count": 38,
     "metadata": {},
     "output_type": "execute_result"
    }
   ],
   "source": [
    "collection.describe()"
   ]
  },
  {
   "cell_type": "code",
   "execution_count": 39,
   "id": "1ccdb51b-46cf-43b5-8187-23a1dc7d7940",
   "metadata": {
    "tags": []
   },
   "outputs": [],
   "source": [
    "books_collection = Collection(\"book\")"
   ]
  },
  {
   "cell_type": "code",
   "execution_count": 40,
   "id": "c349cdd6-c2aa-4886-a3eb-68c5e4b47d69",
   "metadata": {
    "tags": []
   },
   "outputs": [
    {
     "data": {
      "text/plain": [
       "{'collection_name': 'book',\n",
       " 'auto_id': False,\n",
       " 'num_shards': 2,\n",
       " 'description': 'Test book search',\n",
       " 'fields': [{'field_id': 100,\n",
       "   'name': 'book_id',\n",
       "   'description': '',\n",
       "   'type': 5,\n",
       "   'params': {},\n",
       "   'element_type': 0,\n",
       "   'is_primary': True},\n",
       "  {'field_id': 101,\n",
       "   'name': 'book_name',\n",
       "   'description': '',\n",
       "   'type': 21,\n",
       "   'params': {'max_length': 200},\n",
       "   'element_type': 0},\n",
       "  {'field_id': 102,\n",
       "   'name': 'word_count',\n",
       "   'description': '',\n",
       "   'type': 5,\n",
       "   'params': {},\n",
       "   'element_type': 0},\n",
       "  {'field_id': 103,\n",
       "   'name': 'book_intro',\n",
       "   'description': '',\n",
       "   'type': 101,\n",
       "   'params': {'dim': 2},\n",
       "   'element_type': 0}],\n",
       " 'aliases': [],\n",
       " 'collection_id': 447249757418816320,\n",
       " 'consistency_level': 2,\n",
       " 'properties': {},\n",
       " 'num_partitions': 1,\n",
       " 'enable_dynamic_field': True}"
      ]
     },
     "execution_count": 40,
     "metadata": {},
     "output_type": "execute_result"
    }
   ],
   "source": [
    "books_collection.describe()"
   ]
  },
  {
   "cell_type": "code",
   "execution_count": 36,
   "id": "f7069e40-ae98-4a88-9af4-b12f32800624",
   "metadata": {
    "tags": []
   },
   "outputs": [
    {
     "data": {
      "text/plain": [
       "Status(code=0, message=)"
      ]
     },
     "execution_count": 36,
     "metadata": {},
     "output_type": "execute_result"
    }
   ],
   "source": [
    "books_collection.create_index(\"book_id\")"
   ]
  },
  {
   "cell_type": "code",
   "execution_count": 42,
   "id": "a87297a5-05f1-44ee-ac12-f0f81662b804",
   "metadata": {
    "tags": []
   },
   "outputs": [],
   "source": [
    "books_collection.drop_index()"
   ]
  },
  {
   "cell_type": "code",
   "execution_count": 31,
   "id": "a1b99998-729c-47f4-a9bd-cdd4df1cb1f0",
   "metadata": {
    "tags": []
   },
   "outputs": [
    {
     "name": "stderr",
     "output_type": "stream",
     "text": [
      "RPC error: [query], <MilvusException: (code=101, message=failed to query: collection not loaded[collection=447249757418816320])>, <Time:{'RPC start': '2024-01-30 22:15:03.499910', 'RPC error': '2024-01-30 22:15:03.502690'}>\n"
     ]
    },
    {
     "ename": "MilvusException",
     "evalue": "<MilvusException: (code=101, message=failed to query: collection not loaded[collection=447249757418816320])>",
     "output_type": "error",
     "traceback": [
      "\u001b[0;31m---------------------------------------------------------------------------\u001b[0m",
      "\u001b[0;31mMilvusException\u001b[0m                           Traceback (most recent call last)",
      "    \u001b[0;31m[... skipping hidden 1 frame]\u001b[0m\n",
      "Cell \u001b[0;32mIn[31], line 1\u001b[0m\n\u001b[0;32m----> 1\u001b[0m res \u001b[38;5;241m=\u001b[39m \u001b[43mbooks_collection\u001b[49m\u001b[38;5;241;43m.\u001b[39;49m\u001b[43mquery\u001b[49m\u001b[43m(\u001b[49m\n\u001b[1;32m      2\u001b[0m \u001b[43m  \u001b[49m\u001b[43mexpr\u001b[49m\u001b[43m \u001b[49m\u001b[38;5;241;43m=\u001b[39;49m\u001b[43m \u001b[49m\u001b[38;5;124;43m\"\u001b[39;49m\u001b[38;5;124;43m\"\u001b[39;49m\u001b[43m,\u001b[49m\n\u001b[1;32m      3\u001b[0m \u001b[43m  \u001b[49m\u001b[43moffset\u001b[49m\u001b[43m \u001b[49m\u001b[38;5;241;43m=\u001b[39;49m\u001b[43m \u001b[49m\u001b[38;5;241;43m0\u001b[39;49m\u001b[43m,\u001b[49m\n\u001b[1;32m      4\u001b[0m \u001b[43m  \u001b[49m\u001b[43mlimit\u001b[49m\u001b[43m \u001b[49m\u001b[38;5;241;43m=\u001b[39;49m\u001b[43m \u001b[49m\u001b[38;5;241;43m10\u001b[39;49m\u001b[43m,\u001b[49m\u001b[43m \u001b[49m\n\u001b[1;32m      5\u001b[0m \u001b[43m  \u001b[49m\u001b[43moutput_fields\u001b[49m\u001b[43m \u001b[49m\u001b[38;5;241;43m=\u001b[39;49m\u001b[43m \u001b[49m\u001b[43m[\u001b[49m\u001b[38;5;124;43m\"\u001b[39;49m\u001b[38;5;124;43mbook_id\u001b[39;49m\u001b[38;5;124;43m\"\u001b[39;49m\u001b[43m,\u001b[49m\u001b[43m \u001b[49m\u001b[38;5;124;43m\"\u001b[39;49m\u001b[38;5;124;43mbook_intro\u001b[39;49m\u001b[38;5;124;43m\"\u001b[39;49m\u001b[43m]\u001b[49m\u001b[43m,\u001b[49m\n\u001b[1;32m      6\u001b[0m \u001b[43m)\u001b[49m\n",
      "File \u001b[0;32m~/.local/lib/python3.9/site-packages/pymilvus/orm/collection.py:915\u001b[0m, in \u001b[0;36mCollection.query\u001b[0;34m(self, expr, output_fields, partition_names, timeout, **kwargs)\u001b[0m\n\u001b[1;32m    914\u001b[0m conn \u001b[38;5;241m=\u001b[39m \u001b[38;5;28mself\u001b[39m\u001b[38;5;241m.\u001b[39m_get_connection()\n\u001b[0;32m--> 915\u001b[0m \u001b[38;5;28;01mreturn\u001b[39;00m \u001b[43mconn\u001b[49m\u001b[38;5;241;43m.\u001b[39;49m\u001b[43mquery\u001b[49m\u001b[43m(\u001b[49m\n\u001b[1;32m    916\u001b[0m \u001b[43m    \u001b[49m\u001b[38;5;28;43mself\u001b[39;49m\u001b[38;5;241;43m.\u001b[39;49m\u001b[43m_name\u001b[49m\u001b[43m,\u001b[49m\n\u001b[1;32m    917\u001b[0m \u001b[43m    \u001b[49m\u001b[43mexpr\u001b[49m\u001b[43m,\u001b[49m\n\u001b[1;32m    918\u001b[0m \u001b[43m    \u001b[49m\u001b[43moutput_fields\u001b[49m\u001b[43m,\u001b[49m\n\u001b[1;32m    919\u001b[0m \u001b[43m    \u001b[49m\u001b[43mpartition_names\u001b[49m\u001b[43m,\u001b[49m\n\u001b[1;32m    920\u001b[0m \u001b[43m    \u001b[49m\u001b[43mtimeout\u001b[49m\u001b[38;5;241;43m=\u001b[39;49m\u001b[43mtimeout\u001b[49m\u001b[43m,\u001b[49m\n\u001b[1;32m    921\u001b[0m \u001b[43m    \u001b[49m\u001b[43mschema\u001b[49m\u001b[38;5;241;43m=\u001b[39;49m\u001b[38;5;28;43mself\u001b[39;49m\u001b[38;5;241;43m.\u001b[39;49m\u001b[43m_schema_dict\u001b[49m\u001b[43m,\u001b[49m\n\u001b[1;32m    922\u001b[0m \u001b[43m    \u001b[49m\u001b[38;5;241;43m*\u001b[39;49m\u001b[38;5;241;43m*\u001b[39;49m\u001b[43mkwargs\u001b[49m\u001b[43m,\u001b[49m\n\u001b[1;32m    923\u001b[0m \u001b[43m\u001b[49m\u001b[43m)\u001b[49m\n",
      "File \u001b[0;32m~/.local/lib/python3.9/site-packages/pymilvus/decorators.py:129\u001b[0m, in \u001b[0;36merror_handler.<locals>.wrapper.<locals>.handler\u001b[0;34m(*args, **kwargs)\u001b[0m\n\u001b[1;32m    128\u001b[0m     LOGGER\u001b[38;5;241m.\u001b[39merror(\u001b[38;5;124mf\u001b[39m\u001b[38;5;124m\"\u001b[39m\u001b[38;5;124mRPC error: [\u001b[39m\u001b[38;5;132;01m{\u001b[39;00minner_name\u001b[38;5;132;01m}\u001b[39;00m\u001b[38;5;124m], \u001b[39m\u001b[38;5;132;01m{\u001b[39;00me\u001b[38;5;132;01m}\u001b[39;00m\u001b[38;5;124m, <Time:\u001b[39m\u001b[38;5;132;01m{\u001b[39;00mrecord_dict\u001b[38;5;132;01m}\u001b[39;00m\u001b[38;5;124m>\u001b[39m\u001b[38;5;124m\"\u001b[39m)\n\u001b[0;32m--> 129\u001b[0m     \u001b[38;5;28;01mraise\u001b[39;00m e \u001b[38;5;28;01mfrom\u001b[39;00m \u001b[38;5;21;01me\u001b[39;00m\n\u001b[1;32m    130\u001b[0m \u001b[38;5;28;01mexcept\u001b[39;00m grpc\u001b[38;5;241m.\u001b[39mFutureTimeoutError \u001b[38;5;28;01mas\u001b[39;00m e:\n",
      "File \u001b[0;32m~/.local/lib/python3.9/site-packages/pymilvus/decorators.py:125\u001b[0m, in \u001b[0;36merror_handler.<locals>.wrapper.<locals>.handler\u001b[0;34m(*args, **kwargs)\u001b[0m\n\u001b[1;32m    124\u001b[0m     record_dict[\u001b[38;5;124m\"\u001b[39m\u001b[38;5;124mRPC start\u001b[39m\u001b[38;5;124m\"\u001b[39m] \u001b[38;5;241m=\u001b[39m \u001b[38;5;28mstr\u001b[39m(datetime\u001b[38;5;241m.\u001b[39mdatetime\u001b[38;5;241m.\u001b[39mnow())\n\u001b[0;32m--> 125\u001b[0m     \u001b[38;5;28;01mreturn\u001b[39;00m \u001b[43mfunc\u001b[49m\u001b[43m(\u001b[49m\u001b[38;5;241;43m*\u001b[39;49m\u001b[43margs\u001b[49m\u001b[43m,\u001b[49m\u001b[43m \u001b[49m\u001b[38;5;241;43m*\u001b[39;49m\u001b[38;5;241;43m*\u001b[39;49m\u001b[43mkwargs\u001b[49m\u001b[43m)\u001b[49m\n\u001b[1;32m    126\u001b[0m \u001b[38;5;28;01mexcept\u001b[39;00m MilvusException \u001b[38;5;28;01mas\u001b[39;00m e:\n",
      "File \u001b[0;32m~/.local/lib/python3.9/site-packages/pymilvus/decorators.py:164\u001b[0m, in \u001b[0;36mtracing_request.<locals>.wrapper.<locals>.handler\u001b[0;34m(self, *args, **kwargs)\u001b[0m\n\u001b[1;32m    163\u001b[0m     \u001b[38;5;28mself\u001b[39m\u001b[38;5;241m.\u001b[39mset_onetime_request_id(req_id)\n\u001b[0;32m--> 164\u001b[0m \u001b[38;5;28;01mreturn\u001b[39;00m \u001b[43mfunc\u001b[49m\u001b[43m(\u001b[49m\u001b[38;5;28;43mself\u001b[39;49m\u001b[43m,\u001b[49m\u001b[43m \u001b[49m\u001b[38;5;241;43m*\u001b[39;49m\u001b[43margs\u001b[49m\u001b[43m,\u001b[49m\u001b[43m \u001b[49m\u001b[38;5;241;43m*\u001b[39;49m\u001b[38;5;241;43m*\u001b[39;49m\u001b[43mkwargs\u001b[49m\u001b[43m)\u001b[49m\n",
      "File \u001b[0;32m~/.local/lib/python3.9/site-packages/pymilvus/decorators.py:104\u001b[0m, in \u001b[0;36mretry_on_rpc_failure.<locals>.wrapper.<locals>.handler\u001b[0;34m(*args, **kwargs)\u001b[0m\n\u001b[1;32m    103\u001b[0m     \u001b[38;5;28;01melse\u001b[39;00m:\n\u001b[0;32m--> 104\u001b[0m         \u001b[38;5;28;01mraise\u001b[39;00m e \u001b[38;5;28;01mfrom\u001b[39;00m \u001b[38;5;21;01me\u001b[39;00m\n\u001b[1;32m    105\u001b[0m \u001b[38;5;28;01mexcept\u001b[39;00m \u001b[38;5;167;01mException\u001b[39;00m \u001b[38;5;28;01mas\u001b[39;00m e:\n",
      "File \u001b[0;32m~/.local/lib/python3.9/site-packages/pymilvus/decorators.py:68\u001b[0m, in \u001b[0;36mretry_on_rpc_failure.<locals>.wrapper.<locals>.handler\u001b[0;34m(*args, **kwargs)\u001b[0m\n\u001b[1;32m     67\u001b[0m \u001b[38;5;28;01mtry\u001b[39;00m:\n\u001b[0;32m---> 68\u001b[0m     \u001b[38;5;28;01mreturn\u001b[39;00m \u001b[43mfunc\u001b[49m\u001b[43m(\u001b[49m\u001b[38;5;241;43m*\u001b[39;49m\u001b[43margs\u001b[49m\u001b[43m,\u001b[49m\u001b[43m \u001b[49m\u001b[38;5;241;43m*\u001b[39;49m\u001b[38;5;241;43m*\u001b[39;49m\u001b[43mkwargs\u001b[49m\u001b[43m)\u001b[49m\n\u001b[1;32m     69\u001b[0m \u001b[38;5;28;01mexcept\u001b[39;00m grpc\u001b[38;5;241m.\u001b[39mRpcError \u001b[38;5;28;01mas\u001b[39;00m e:\n\u001b[1;32m     70\u001b[0m     \u001b[38;5;66;03m# Reference: https://grpc.github.io/grpc/python/grpc.html#grpc-status-code\u001b[39;00m\n",
      "File \u001b[0;32m~/.local/lib/python3.9/site-packages/pymilvus/client/grpc_handler.py:1314\u001b[0m, in \u001b[0;36mGrpcHandler.query\u001b[0;34m(self, collection_name, expr, output_fields, partition_names, timeout, **kwargs)\u001b[0m\n\u001b[1;32m   1313\u001b[0m     \u001b[38;5;28;01mreturn\u001b[39;00m []\n\u001b[0;32m-> 1314\u001b[0m \u001b[43mcheck_status\u001b[49m\u001b[43m(\u001b[49m\u001b[43mresponse\u001b[49m\u001b[38;5;241;43m.\u001b[39;49m\u001b[43mstatus\u001b[49m\u001b[43m)\u001b[49m\n\u001b[1;32m   1316\u001b[0m num_fields \u001b[38;5;241m=\u001b[39m \u001b[38;5;28mlen\u001b[39m(response\u001b[38;5;241m.\u001b[39mfields_data)\n",
      "File \u001b[0;32m~/.local/lib/python3.9/site-packages/pymilvus/client/utils.py:54\u001b[0m, in \u001b[0;36mcheck_status\u001b[0;34m(status)\u001b[0m\n\u001b[1;32m     53\u001b[0m \u001b[38;5;28;01mif\u001b[39;00m status\u001b[38;5;241m.\u001b[39mcode \u001b[38;5;241m!=\u001b[39m \u001b[38;5;241m0\u001b[39m \u001b[38;5;129;01mor\u001b[39;00m status\u001b[38;5;241m.\u001b[39merror_code \u001b[38;5;241m!=\u001b[39m \u001b[38;5;241m0\u001b[39m:\n\u001b[0;32m---> 54\u001b[0m     \u001b[38;5;28;01mraise\u001b[39;00m MilvusException(status\u001b[38;5;241m.\u001b[39mcode, status\u001b[38;5;241m.\u001b[39mreason, status\u001b[38;5;241m.\u001b[39merror_code)\n",
      "\u001b[0;31mMilvusException\u001b[0m: <MilvusException: (code=101, message=failed to query: collection not loaded[collection=447249757418816320])>",
      "\nThe above exception was the direct cause of the following exception:\n",
      "\u001b[0;31mMilvusException\u001b[0m                           Traceback (most recent call last)",
      "    \u001b[0;31m[... skipping hidden 1 frame]\u001b[0m\n",
      "Cell \u001b[0;32mIn[31], line 1\u001b[0m\n\u001b[0;32m----> 1\u001b[0m res \u001b[38;5;241m=\u001b[39m \u001b[43mbooks_collection\u001b[49m\u001b[38;5;241;43m.\u001b[39;49m\u001b[43mquery\u001b[49m\u001b[43m(\u001b[49m\n\u001b[1;32m      2\u001b[0m \u001b[43m  \u001b[49m\u001b[43mexpr\u001b[49m\u001b[43m \u001b[49m\u001b[38;5;241;43m=\u001b[39;49m\u001b[43m \u001b[49m\u001b[38;5;124;43m\"\u001b[39;49m\u001b[38;5;124;43m\"\u001b[39;49m\u001b[43m,\u001b[49m\n\u001b[1;32m      3\u001b[0m \u001b[43m  \u001b[49m\u001b[43moffset\u001b[49m\u001b[43m \u001b[49m\u001b[38;5;241;43m=\u001b[39;49m\u001b[43m \u001b[49m\u001b[38;5;241;43m0\u001b[39;49m\u001b[43m,\u001b[49m\n\u001b[1;32m      4\u001b[0m \u001b[43m  \u001b[49m\u001b[43mlimit\u001b[49m\u001b[43m \u001b[49m\u001b[38;5;241;43m=\u001b[39;49m\u001b[43m \u001b[49m\u001b[38;5;241;43m10\u001b[39;49m\u001b[43m,\u001b[49m\u001b[43m \u001b[49m\n\u001b[1;32m      5\u001b[0m \u001b[43m  \u001b[49m\u001b[43moutput_fields\u001b[49m\u001b[43m \u001b[49m\u001b[38;5;241;43m=\u001b[39;49m\u001b[43m \u001b[49m\u001b[43m[\u001b[49m\u001b[38;5;124;43m\"\u001b[39;49m\u001b[38;5;124;43mbook_id\u001b[39;49m\u001b[38;5;124;43m\"\u001b[39;49m\u001b[43m,\u001b[49m\u001b[43m \u001b[49m\u001b[38;5;124;43m\"\u001b[39;49m\u001b[38;5;124;43mbook_intro\u001b[39;49m\u001b[38;5;124;43m\"\u001b[39;49m\u001b[43m]\u001b[49m\u001b[43m,\u001b[49m\n\u001b[1;32m      6\u001b[0m \u001b[43m)\u001b[49m\n",
      "File \u001b[0;32m~/.local/lib/python3.9/site-packages/pymilvus/orm/collection.py:915\u001b[0m, in \u001b[0;36mCollection.query\u001b[0;34m(self, expr, output_fields, partition_names, timeout, **kwargs)\u001b[0m\n\u001b[1;32m    914\u001b[0m conn \u001b[38;5;241m=\u001b[39m \u001b[38;5;28mself\u001b[39m\u001b[38;5;241m.\u001b[39m_get_connection()\n\u001b[0;32m--> 915\u001b[0m \u001b[38;5;28;01mreturn\u001b[39;00m \u001b[43mconn\u001b[49m\u001b[38;5;241;43m.\u001b[39;49m\u001b[43mquery\u001b[49m\u001b[43m(\u001b[49m\n\u001b[1;32m    916\u001b[0m \u001b[43m    \u001b[49m\u001b[38;5;28;43mself\u001b[39;49m\u001b[38;5;241;43m.\u001b[39;49m\u001b[43m_name\u001b[49m\u001b[43m,\u001b[49m\n\u001b[1;32m    917\u001b[0m \u001b[43m    \u001b[49m\u001b[43mexpr\u001b[49m\u001b[43m,\u001b[49m\n\u001b[1;32m    918\u001b[0m \u001b[43m    \u001b[49m\u001b[43moutput_fields\u001b[49m\u001b[43m,\u001b[49m\n\u001b[1;32m    919\u001b[0m \u001b[43m    \u001b[49m\u001b[43mpartition_names\u001b[49m\u001b[43m,\u001b[49m\n\u001b[1;32m    920\u001b[0m \u001b[43m    \u001b[49m\u001b[43mtimeout\u001b[49m\u001b[38;5;241;43m=\u001b[39;49m\u001b[43mtimeout\u001b[49m\u001b[43m,\u001b[49m\n\u001b[1;32m    921\u001b[0m \u001b[43m    \u001b[49m\u001b[43mschema\u001b[49m\u001b[38;5;241;43m=\u001b[39;49m\u001b[38;5;28;43mself\u001b[39;49m\u001b[38;5;241;43m.\u001b[39;49m\u001b[43m_schema_dict\u001b[49m\u001b[43m,\u001b[49m\n\u001b[1;32m    922\u001b[0m \u001b[43m    \u001b[49m\u001b[38;5;241;43m*\u001b[39;49m\u001b[38;5;241;43m*\u001b[39;49m\u001b[43mkwargs\u001b[49m\u001b[43m,\u001b[49m\n\u001b[1;32m    923\u001b[0m \u001b[43m\u001b[49m\u001b[43m)\u001b[49m\n",
      "File \u001b[0;32m~/.local/lib/python3.9/site-packages/pymilvus/decorators.py:129\u001b[0m, in \u001b[0;36merror_handler.<locals>.wrapper.<locals>.handler\u001b[0;34m(*args, **kwargs)\u001b[0m\n\u001b[1;32m    128\u001b[0m     LOGGER\u001b[38;5;241m.\u001b[39merror(\u001b[38;5;124mf\u001b[39m\u001b[38;5;124m\"\u001b[39m\u001b[38;5;124mRPC error: [\u001b[39m\u001b[38;5;132;01m{\u001b[39;00minner_name\u001b[38;5;132;01m}\u001b[39;00m\u001b[38;5;124m], \u001b[39m\u001b[38;5;132;01m{\u001b[39;00me\u001b[38;5;132;01m}\u001b[39;00m\u001b[38;5;124m, <Time:\u001b[39m\u001b[38;5;132;01m{\u001b[39;00mrecord_dict\u001b[38;5;132;01m}\u001b[39;00m\u001b[38;5;124m>\u001b[39m\u001b[38;5;124m\"\u001b[39m)\n\u001b[0;32m--> 129\u001b[0m     \u001b[38;5;28;01mraise\u001b[39;00m e \u001b[38;5;28;01mfrom\u001b[39;00m \u001b[38;5;21;01me\u001b[39;00m\n\u001b[1;32m    130\u001b[0m \u001b[38;5;28;01mexcept\u001b[39;00m grpc\u001b[38;5;241m.\u001b[39mFutureTimeoutError \u001b[38;5;28;01mas\u001b[39;00m e:\n",
      "File \u001b[0;32m~/.local/lib/python3.9/site-packages/pymilvus/decorators.py:125\u001b[0m, in \u001b[0;36merror_handler.<locals>.wrapper.<locals>.handler\u001b[0;34m(*args, **kwargs)\u001b[0m\n\u001b[1;32m    124\u001b[0m     record_dict[\u001b[38;5;124m\"\u001b[39m\u001b[38;5;124mRPC start\u001b[39m\u001b[38;5;124m\"\u001b[39m] \u001b[38;5;241m=\u001b[39m \u001b[38;5;28mstr\u001b[39m(datetime\u001b[38;5;241m.\u001b[39mdatetime\u001b[38;5;241m.\u001b[39mnow())\n\u001b[0;32m--> 125\u001b[0m     \u001b[38;5;28;01mreturn\u001b[39;00m \u001b[43mfunc\u001b[49m\u001b[43m(\u001b[49m\u001b[38;5;241;43m*\u001b[39;49m\u001b[43margs\u001b[49m\u001b[43m,\u001b[49m\u001b[43m \u001b[49m\u001b[38;5;241;43m*\u001b[39;49m\u001b[38;5;241;43m*\u001b[39;49m\u001b[43mkwargs\u001b[49m\u001b[43m)\u001b[49m\n\u001b[1;32m    126\u001b[0m \u001b[38;5;28;01mexcept\u001b[39;00m MilvusException \u001b[38;5;28;01mas\u001b[39;00m e:\n",
      "File \u001b[0;32m~/.local/lib/python3.9/site-packages/pymilvus/decorators.py:164\u001b[0m, in \u001b[0;36mtracing_request.<locals>.wrapper.<locals>.handler\u001b[0;34m(self, *args, **kwargs)\u001b[0m\n\u001b[1;32m    163\u001b[0m     \u001b[38;5;28mself\u001b[39m\u001b[38;5;241m.\u001b[39mset_onetime_request_id(req_id)\n\u001b[0;32m--> 164\u001b[0m \u001b[38;5;28;01mreturn\u001b[39;00m \u001b[43mfunc\u001b[49m\u001b[43m(\u001b[49m\u001b[38;5;28;43mself\u001b[39;49m\u001b[43m,\u001b[49m\u001b[43m \u001b[49m\u001b[38;5;241;43m*\u001b[39;49m\u001b[43margs\u001b[49m\u001b[43m,\u001b[49m\u001b[43m \u001b[49m\u001b[38;5;241;43m*\u001b[39;49m\u001b[38;5;241;43m*\u001b[39;49m\u001b[43mkwargs\u001b[49m\u001b[43m)\u001b[49m\n",
      "File \u001b[0;32m~/.local/lib/python3.9/site-packages/pymilvus/decorators.py:104\u001b[0m, in \u001b[0;36mretry_on_rpc_failure.<locals>.wrapper.<locals>.handler\u001b[0;34m(*args, **kwargs)\u001b[0m\n\u001b[1;32m    103\u001b[0m     \u001b[38;5;28;01melse\u001b[39;00m:\n\u001b[0;32m--> 104\u001b[0m         \u001b[38;5;28;01mraise\u001b[39;00m e \u001b[38;5;28;01mfrom\u001b[39;00m \u001b[38;5;21;01me\u001b[39;00m\n\u001b[1;32m    105\u001b[0m \u001b[38;5;28;01mexcept\u001b[39;00m \u001b[38;5;167;01mException\u001b[39;00m \u001b[38;5;28;01mas\u001b[39;00m e:\n",
      "File \u001b[0;32m~/.local/lib/python3.9/site-packages/pymilvus/decorators.py:68\u001b[0m, in \u001b[0;36mretry_on_rpc_failure.<locals>.wrapper.<locals>.handler\u001b[0;34m(*args, **kwargs)\u001b[0m\n\u001b[1;32m     67\u001b[0m \u001b[38;5;28;01mtry\u001b[39;00m:\n\u001b[0;32m---> 68\u001b[0m     \u001b[38;5;28;01mreturn\u001b[39;00m \u001b[43mfunc\u001b[49m\u001b[43m(\u001b[49m\u001b[38;5;241;43m*\u001b[39;49m\u001b[43margs\u001b[49m\u001b[43m,\u001b[49m\u001b[43m \u001b[49m\u001b[38;5;241;43m*\u001b[39;49m\u001b[38;5;241;43m*\u001b[39;49m\u001b[43mkwargs\u001b[49m\u001b[43m)\u001b[49m\n\u001b[1;32m     69\u001b[0m \u001b[38;5;28;01mexcept\u001b[39;00m grpc\u001b[38;5;241m.\u001b[39mRpcError \u001b[38;5;28;01mas\u001b[39;00m e:\n\u001b[1;32m     70\u001b[0m     \u001b[38;5;66;03m# Reference: https://grpc.github.io/grpc/python/grpc.html#grpc-status-code\u001b[39;00m\n",
      "File \u001b[0;32m~/.local/lib/python3.9/site-packages/pymilvus/client/grpc_handler.py:1314\u001b[0m, in \u001b[0;36mGrpcHandler.query\u001b[0;34m(self, collection_name, expr, output_fields, partition_names, timeout, **kwargs)\u001b[0m\n\u001b[1;32m   1313\u001b[0m     \u001b[38;5;28;01mreturn\u001b[39;00m []\n\u001b[0;32m-> 1314\u001b[0m \u001b[43mcheck_status\u001b[49m\u001b[43m(\u001b[49m\u001b[43mresponse\u001b[49m\u001b[38;5;241;43m.\u001b[39;49m\u001b[43mstatus\u001b[49m\u001b[43m)\u001b[49m\n\u001b[1;32m   1316\u001b[0m num_fields \u001b[38;5;241m=\u001b[39m \u001b[38;5;28mlen\u001b[39m(response\u001b[38;5;241m.\u001b[39mfields_data)\n",
      "File \u001b[0;32m~/.local/lib/python3.9/site-packages/pymilvus/client/utils.py:54\u001b[0m, in \u001b[0;36mcheck_status\u001b[0;34m(status)\u001b[0m\n\u001b[1;32m     53\u001b[0m \u001b[38;5;28;01mif\u001b[39;00m status\u001b[38;5;241m.\u001b[39mcode \u001b[38;5;241m!=\u001b[39m \u001b[38;5;241m0\u001b[39m \u001b[38;5;129;01mor\u001b[39;00m status\u001b[38;5;241m.\u001b[39merror_code \u001b[38;5;241m!=\u001b[39m \u001b[38;5;241m0\u001b[39m:\n\u001b[0;32m---> 54\u001b[0m     \u001b[38;5;28;01mraise\u001b[39;00m MilvusException(status\u001b[38;5;241m.\u001b[39mcode, status\u001b[38;5;241m.\u001b[39mreason, status\u001b[38;5;241m.\u001b[39merror_code)\n",
      "\u001b[0;31mMilvusException\u001b[0m: <MilvusException: (code=101, message=failed to query: collection not loaded[collection=447249757418816320])>",
      "\nThe above exception was the direct cause of the following exception:\n",
      "\u001b[0;31mMilvusException\u001b[0m                           Traceback (most recent call last)",
      "Cell \u001b[0;32mIn[31], line 1\u001b[0m\n\u001b[0;32m----> 1\u001b[0m res \u001b[38;5;241m=\u001b[39m \u001b[43mbooks_collection\u001b[49m\u001b[38;5;241;43m.\u001b[39;49m\u001b[43mquery\u001b[49m\u001b[43m(\u001b[49m\n\u001b[1;32m      2\u001b[0m \u001b[43m  \u001b[49m\u001b[43mexpr\u001b[49m\u001b[43m \u001b[49m\u001b[38;5;241;43m=\u001b[39;49m\u001b[43m \u001b[49m\u001b[38;5;124;43m\"\u001b[39;49m\u001b[38;5;124;43m\"\u001b[39;49m\u001b[43m,\u001b[49m\n\u001b[1;32m      3\u001b[0m \u001b[43m  \u001b[49m\u001b[43moffset\u001b[49m\u001b[43m \u001b[49m\u001b[38;5;241;43m=\u001b[39;49m\u001b[43m \u001b[49m\u001b[38;5;241;43m0\u001b[39;49m\u001b[43m,\u001b[49m\n\u001b[1;32m      4\u001b[0m \u001b[43m  \u001b[49m\u001b[43mlimit\u001b[49m\u001b[43m \u001b[49m\u001b[38;5;241;43m=\u001b[39;49m\u001b[43m \u001b[49m\u001b[38;5;241;43m10\u001b[39;49m\u001b[43m,\u001b[49m\u001b[43m \u001b[49m\n\u001b[1;32m      5\u001b[0m \u001b[43m  \u001b[49m\u001b[43moutput_fields\u001b[49m\u001b[43m \u001b[49m\u001b[38;5;241;43m=\u001b[39;49m\u001b[43m \u001b[49m\u001b[43m[\u001b[49m\u001b[38;5;124;43m\"\u001b[39;49m\u001b[38;5;124;43mbook_id\u001b[39;49m\u001b[38;5;124;43m\"\u001b[39;49m\u001b[43m,\u001b[49m\u001b[43m \u001b[49m\u001b[38;5;124;43m\"\u001b[39;49m\u001b[38;5;124;43mbook_intro\u001b[39;49m\u001b[38;5;124;43m\"\u001b[39;49m\u001b[43m]\u001b[49m\u001b[43m,\u001b[49m\n\u001b[1;32m      6\u001b[0m \u001b[43m)\u001b[49m\n",
      "File \u001b[0;32m~/.local/lib/python3.9/site-packages/pymilvus/orm/collection.py:915\u001b[0m, in \u001b[0;36mCollection.query\u001b[0;34m(self, expr, output_fields, partition_names, timeout, **kwargs)\u001b[0m\n\u001b[1;32m    912\u001b[0m     \u001b[38;5;28;01mraise\u001b[39;00m DataTypeNotMatchException(message\u001b[38;5;241m=\u001b[39mExceptionsMessage\u001b[38;5;241m.\u001b[39mExprType \u001b[38;5;241m%\u001b[39m \u001b[38;5;28mtype\u001b[39m(expr))\n\u001b[1;32m    914\u001b[0m conn \u001b[38;5;241m=\u001b[39m \u001b[38;5;28mself\u001b[39m\u001b[38;5;241m.\u001b[39m_get_connection()\n\u001b[0;32m--> 915\u001b[0m \u001b[38;5;28;01mreturn\u001b[39;00m \u001b[43mconn\u001b[49m\u001b[38;5;241;43m.\u001b[39;49m\u001b[43mquery\u001b[49m\u001b[43m(\u001b[49m\n\u001b[1;32m    916\u001b[0m \u001b[43m    \u001b[49m\u001b[38;5;28;43mself\u001b[39;49m\u001b[38;5;241;43m.\u001b[39;49m\u001b[43m_name\u001b[49m\u001b[43m,\u001b[49m\n\u001b[1;32m    917\u001b[0m \u001b[43m    \u001b[49m\u001b[43mexpr\u001b[49m\u001b[43m,\u001b[49m\n\u001b[1;32m    918\u001b[0m \u001b[43m    \u001b[49m\u001b[43moutput_fields\u001b[49m\u001b[43m,\u001b[49m\n\u001b[1;32m    919\u001b[0m \u001b[43m    \u001b[49m\u001b[43mpartition_names\u001b[49m\u001b[43m,\u001b[49m\n\u001b[1;32m    920\u001b[0m \u001b[43m    \u001b[49m\u001b[43mtimeout\u001b[49m\u001b[38;5;241;43m=\u001b[39;49m\u001b[43mtimeout\u001b[49m\u001b[43m,\u001b[49m\n\u001b[1;32m    921\u001b[0m \u001b[43m    \u001b[49m\u001b[43mschema\u001b[49m\u001b[38;5;241;43m=\u001b[39;49m\u001b[38;5;28;43mself\u001b[39;49m\u001b[38;5;241;43m.\u001b[39;49m\u001b[43m_schema_dict\u001b[49m\u001b[43m,\u001b[49m\n\u001b[1;32m    922\u001b[0m \u001b[43m    \u001b[49m\u001b[38;5;241;43m*\u001b[39;49m\u001b[38;5;241;43m*\u001b[39;49m\u001b[43mkwargs\u001b[49m\u001b[43m,\u001b[49m\n\u001b[1;32m    923\u001b[0m \u001b[43m\u001b[49m\u001b[43m)\u001b[49m\n",
      "File \u001b[0;32m~/.local/lib/python3.9/site-packages/pymilvus/decorators.py:129\u001b[0m, in \u001b[0;36merror_handler.<locals>.wrapper.<locals>.handler\u001b[0;34m(*args, **kwargs)\u001b[0m\n\u001b[1;32m    127\u001b[0m     record_dict[\u001b[38;5;124m\"\u001b[39m\u001b[38;5;124mRPC error\u001b[39m\u001b[38;5;124m\"\u001b[39m] \u001b[38;5;241m=\u001b[39m \u001b[38;5;28mstr\u001b[39m(datetime\u001b[38;5;241m.\u001b[39mdatetime\u001b[38;5;241m.\u001b[39mnow())\n\u001b[1;32m    128\u001b[0m     LOGGER\u001b[38;5;241m.\u001b[39merror(\u001b[38;5;124mf\u001b[39m\u001b[38;5;124m\"\u001b[39m\u001b[38;5;124mRPC error: [\u001b[39m\u001b[38;5;132;01m{\u001b[39;00minner_name\u001b[38;5;132;01m}\u001b[39;00m\u001b[38;5;124m], \u001b[39m\u001b[38;5;132;01m{\u001b[39;00me\u001b[38;5;132;01m}\u001b[39;00m\u001b[38;5;124m, <Time:\u001b[39m\u001b[38;5;132;01m{\u001b[39;00mrecord_dict\u001b[38;5;132;01m}\u001b[39;00m\u001b[38;5;124m>\u001b[39m\u001b[38;5;124m\"\u001b[39m)\n\u001b[0;32m--> 129\u001b[0m     \u001b[38;5;28;01mraise\u001b[39;00m e \u001b[38;5;28;01mfrom\u001b[39;00m \u001b[38;5;21;01me\u001b[39;00m\n\u001b[1;32m    130\u001b[0m \u001b[38;5;28;01mexcept\u001b[39;00m grpc\u001b[38;5;241m.\u001b[39mFutureTimeoutError \u001b[38;5;28;01mas\u001b[39;00m e:\n\u001b[1;32m    131\u001b[0m     record_dict[\u001b[38;5;124m\"\u001b[39m\u001b[38;5;124mgRPC timeout\u001b[39m\u001b[38;5;124m\"\u001b[39m] \u001b[38;5;241m=\u001b[39m \u001b[38;5;28mstr\u001b[39m(datetime\u001b[38;5;241m.\u001b[39mdatetime\u001b[38;5;241m.\u001b[39mnow())\n",
      "File \u001b[0;32m~/.local/lib/python3.9/site-packages/pymilvus/decorators.py:125\u001b[0m, in \u001b[0;36merror_handler.<locals>.wrapper.<locals>.handler\u001b[0;34m(*args, **kwargs)\u001b[0m\n\u001b[1;32m    123\u001b[0m \u001b[38;5;28;01mtry\u001b[39;00m:\n\u001b[1;32m    124\u001b[0m     record_dict[\u001b[38;5;124m\"\u001b[39m\u001b[38;5;124mRPC start\u001b[39m\u001b[38;5;124m\"\u001b[39m] \u001b[38;5;241m=\u001b[39m \u001b[38;5;28mstr\u001b[39m(datetime\u001b[38;5;241m.\u001b[39mdatetime\u001b[38;5;241m.\u001b[39mnow())\n\u001b[0;32m--> 125\u001b[0m     \u001b[38;5;28;01mreturn\u001b[39;00m \u001b[43mfunc\u001b[49m\u001b[43m(\u001b[49m\u001b[38;5;241;43m*\u001b[39;49m\u001b[43margs\u001b[49m\u001b[43m,\u001b[49m\u001b[43m \u001b[49m\u001b[38;5;241;43m*\u001b[39;49m\u001b[38;5;241;43m*\u001b[39;49m\u001b[43mkwargs\u001b[49m\u001b[43m)\u001b[49m\n\u001b[1;32m    126\u001b[0m \u001b[38;5;28;01mexcept\u001b[39;00m MilvusException \u001b[38;5;28;01mas\u001b[39;00m e:\n\u001b[1;32m    127\u001b[0m     record_dict[\u001b[38;5;124m\"\u001b[39m\u001b[38;5;124mRPC error\u001b[39m\u001b[38;5;124m\"\u001b[39m] \u001b[38;5;241m=\u001b[39m \u001b[38;5;28mstr\u001b[39m(datetime\u001b[38;5;241m.\u001b[39mdatetime\u001b[38;5;241m.\u001b[39mnow())\n",
      "File \u001b[0;32m~/.local/lib/python3.9/site-packages/pymilvus/decorators.py:164\u001b[0m, in \u001b[0;36mtracing_request.<locals>.wrapper.<locals>.handler\u001b[0;34m(self, *args, **kwargs)\u001b[0m\n\u001b[1;32m    162\u001b[0m \u001b[38;5;28;01mif\u001b[39;00m req_id:\n\u001b[1;32m    163\u001b[0m     \u001b[38;5;28mself\u001b[39m\u001b[38;5;241m.\u001b[39mset_onetime_request_id(req_id)\n\u001b[0;32m--> 164\u001b[0m \u001b[38;5;28;01mreturn\u001b[39;00m \u001b[43mfunc\u001b[49m\u001b[43m(\u001b[49m\u001b[38;5;28;43mself\u001b[39;49m\u001b[43m,\u001b[49m\u001b[43m \u001b[49m\u001b[38;5;241;43m*\u001b[39;49m\u001b[43margs\u001b[49m\u001b[43m,\u001b[49m\u001b[43m \u001b[49m\u001b[38;5;241;43m*\u001b[39;49m\u001b[38;5;241;43m*\u001b[39;49m\u001b[43mkwargs\u001b[49m\u001b[43m)\u001b[49m\n",
      "File \u001b[0;32m~/.local/lib/python3.9/site-packages/pymilvus/decorators.py:104\u001b[0m, in \u001b[0;36mretry_on_rpc_failure.<locals>.wrapper.<locals>.handler\u001b[0;34m(*args, **kwargs)\u001b[0m\n\u001b[1;32m    102\u001b[0m         back_off \u001b[38;5;241m=\u001b[39m \u001b[38;5;28mmin\u001b[39m(back_off \u001b[38;5;241m*\u001b[39m back_off_multiplier, max_back_off)\n\u001b[1;32m    103\u001b[0m     \u001b[38;5;28;01melse\u001b[39;00m:\n\u001b[0;32m--> 104\u001b[0m         \u001b[38;5;28;01mraise\u001b[39;00m e \u001b[38;5;28;01mfrom\u001b[39;00m \u001b[38;5;21;01me\u001b[39;00m\n\u001b[1;32m    105\u001b[0m \u001b[38;5;28;01mexcept\u001b[39;00m \u001b[38;5;167;01mException\u001b[39;00m \u001b[38;5;28;01mas\u001b[39;00m e:\n\u001b[1;32m    106\u001b[0m     \u001b[38;5;28;01mraise\u001b[39;00m e \u001b[38;5;28;01mfrom\u001b[39;00m \u001b[38;5;21;01me\u001b[39;00m\n",
      "File \u001b[0;32m~/.local/lib/python3.9/site-packages/pymilvus/decorators.py:68\u001b[0m, in \u001b[0;36mretry_on_rpc_failure.<locals>.wrapper.<locals>.handler\u001b[0;34m(*args, **kwargs)\u001b[0m\n\u001b[1;32m     66\u001b[0m \u001b[38;5;28;01mwhile\u001b[39;00m \u001b[38;5;28;01mTrue\u001b[39;00m:\n\u001b[1;32m     67\u001b[0m     \u001b[38;5;28;01mtry\u001b[39;00m:\n\u001b[0;32m---> 68\u001b[0m         \u001b[38;5;28;01mreturn\u001b[39;00m \u001b[43mfunc\u001b[49m\u001b[43m(\u001b[49m\u001b[38;5;241;43m*\u001b[39;49m\u001b[43margs\u001b[49m\u001b[43m,\u001b[49m\u001b[43m \u001b[49m\u001b[38;5;241;43m*\u001b[39;49m\u001b[38;5;241;43m*\u001b[39;49m\u001b[43mkwargs\u001b[49m\u001b[43m)\u001b[49m\n\u001b[1;32m     69\u001b[0m     \u001b[38;5;28;01mexcept\u001b[39;00m grpc\u001b[38;5;241m.\u001b[39mRpcError \u001b[38;5;28;01mas\u001b[39;00m e:\n\u001b[1;32m     70\u001b[0m         \u001b[38;5;66;03m# Reference: https://grpc.github.io/grpc/python/grpc.html#grpc-status-code\u001b[39;00m\n\u001b[1;32m     71\u001b[0m         \u001b[38;5;28;01mif\u001b[39;00m e\u001b[38;5;241m.\u001b[39mcode() \u001b[38;5;129;01min\u001b[39;00m (\n\u001b[1;32m     72\u001b[0m             grpc\u001b[38;5;241m.\u001b[39mStatusCode\u001b[38;5;241m.\u001b[39mDEADLINE_EXCEEDED,\n\u001b[1;32m     73\u001b[0m             grpc\u001b[38;5;241m.\u001b[39mStatusCode\u001b[38;5;241m.\u001b[39mPERMISSION_DENIED,\n\u001b[0;32m   (...)\u001b[0m\n\u001b[1;32m     77\u001b[0m             grpc\u001b[38;5;241m.\u001b[39mStatusCode\u001b[38;5;241m.\u001b[39mRESOURCE_EXHAUSTED,\n\u001b[1;32m     78\u001b[0m         ):\n",
      "File \u001b[0;32m~/.local/lib/python3.9/site-packages/pymilvus/client/grpc_handler.py:1314\u001b[0m, in \u001b[0;36mGrpcHandler.query\u001b[0;34m(self, collection_name, expr, output_fields, partition_names, timeout, **kwargs)\u001b[0m\n\u001b[1;32m   1312\u001b[0m \u001b[38;5;28;01mif\u001b[39;00m Status\u001b[38;5;241m.\u001b[39mEMPTY_COLLECTION \u001b[38;5;129;01min\u001b[39;00m {response\u001b[38;5;241m.\u001b[39mstatus\u001b[38;5;241m.\u001b[39mcode, response\u001b[38;5;241m.\u001b[39mstatus\u001b[38;5;241m.\u001b[39merror_code}:\n\u001b[1;32m   1313\u001b[0m     \u001b[38;5;28;01mreturn\u001b[39;00m []\n\u001b[0;32m-> 1314\u001b[0m \u001b[43mcheck_status\u001b[49m\u001b[43m(\u001b[49m\u001b[43mresponse\u001b[49m\u001b[38;5;241;43m.\u001b[39;49m\u001b[43mstatus\u001b[49m\u001b[43m)\u001b[49m\n\u001b[1;32m   1316\u001b[0m num_fields \u001b[38;5;241m=\u001b[39m \u001b[38;5;28mlen\u001b[39m(response\u001b[38;5;241m.\u001b[39mfields_data)\n\u001b[1;32m   1317\u001b[0m \u001b[38;5;66;03m# check has fields\u001b[39;00m\n",
      "File \u001b[0;32m~/.local/lib/python3.9/site-packages/pymilvus/client/utils.py:54\u001b[0m, in \u001b[0;36mcheck_status\u001b[0;34m(status)\u001b[0m\n\u001b[1;32m     52\u001b[0m \u001b[38;5;28;01mdef\u001b[39;00m \u001b[38;5;21mcheck_status\u001b[39m(status: Status):\n\u001b[1;32m     53\u001b[0m     \u001b[38;5;28;01mif\u001b[39;00m status\u001b[38;5;241m.\u001b[39mcode \u001b[38;5;241m!=\u001b[39m \u001b[38;5;241m0\u001b[39m \u001b[38;5;129;01mor\u001b[39;00m status\u001b[38;5;241m.\u001b[39merror_code \u001b[38;5;241m!=\u001b[39m \u001b[38;5;241m0\u001b[39m:\n\u001b[0;32m---> 54\u001b[0m         \u001b[38;5;28;01mraise\u001b[39;00m MilvusException(status\u001b[38;5;241m.\u001b[39mcode, status\u001b[38;5;241m.\u001b[39mreason, status\u001b[38;5;241m.\u001b[39merror_code)\n",
      "\u001b[0;31mMilvusException\u001b[0m: <MilvusException: (code=101, message=failed to query: collection not loaded[collection=447249757418816320])>"
     ]
    }
   ],
   "source": [
    "res = books_collection.query(\n",
    "  expr = \"\",\n",
    "  offset = 0,\n",
    "  limit = 10, \n",
    "  output_fields = [\"book_id\", \"book_intro\"],\n",
    ")"
   ]
  },
  {
   "cell_type": "code",
   "execution_count": 24,
   "id": "62d5274b-d640-4526-9e90-8ac7974009b6",
   "metadata": {
    "tags": []
   },
   "outputs": [],
   "source": [
    "res = collection.query(\n",
    "  expr = \"\",\n",
    "  offset = 10,\n",
    "  limit = 20, \n",
    "  output_fields = ['id', 'embedding']\n",
    ")"
   ]
  },
  {
   "cell_type": "markdown",
   "id": "f29acec2-0be8-432f-8d5e-1c2c6d6bb383",
   "metadata": {},
   "source": [
    "TODO\n",
    "\n",
    "1) Check embedding size of Lllamaindex Huggingface embettings in (are they ~300 or 2k)\n",
    "2) See if fields can be inserted to Milvus via Llamaindex. i.e. more than just embeddings\n",
    "\n"
   ]
  },
  {
   "cell_type": "code",
   "execution_count": 17,
   "id": "443fe202-aa8f-4745-be53-c6fe01051a27",
   "metadata": {
    "tags": []
   },
   "outputs": [
    {
     "data": {
      "text/plain": [
       "Document(id_='398cc74a-580d-41c2-a85f-0b980e4ff0ef', embedding=None, metadata={'url': 'https://gpt-index.readthedocs.io/en/latest'}, excluded_embed_metadata_keys=[], excluded_llm_metadata_keys=[], relationships={}, hash='767b9945a76c081d709c631a4c4bd5ea20b3b2ca30c6b52133fa78638aab3be3', text='LlamaIndex is a data framework for LLM-based applications to ingest, structure, and access private or domain-specific data. It’s available in Python (these docs) and Typescript.\\n🚀 Why LlamaIndex?\\uf0c1\\nLLMs offer a natural language interface between humans and data. Widely available models come pre-trained on huge amounts of publicly available data like Wikipedia, mailing lists, textbooks, source code and more.\\nHowever, while LLMs are trained on a great deal of data, they are not trained on your data, which may be private or specific to the problem you’re trying to solve. It’s behind APIs, in SQL databases, or trapped in PDFs and slide decks.\\nYou may choose to fine-tune a LLM with your data, but:\\nTraining a LLM is expensive.\\nDue to the cost to train, it’s hard to update a LLM with latest information.\\nObservability is lacking. When you ask a LLM a question, it’s not obvious how the LLM arrived at its answer.\\nLlamaIndex takes a different approach called Retrieval-Augmented Generation (RAG). Instead of asking LLM to generate an answer immediately, LlamaIndex:\\nretrieves information from your data sources first,\\nadds it to your question as context, and\\nasks the LLM to answer based on the enriched prompt.\\nRAG overcomes all three weaknesses of the fine-tuning approach:\\nThere’s no training involved, so it’s cheap.\\nData is fetched only when you ask for them, so it’s always up to date.\\nLlamaIndex can show you the retrieved documents, so it’s more trustworthy.\\nLlamaIndex imposes no restriction on how you use LLMs. You can still use LLMs as auto-complete, chatbots, semi-autonomous agents, and more (see Use Cases on the left). It only makes LLMs more relevant to you.\\n🦙 How can LlamaIndex help?\\uf0c1\\nLlamaIndex provides the following tools:\\nData connectors ingest your existing data from their native source and format. These could be APIs, PDFs, SQL, and (much) more.\\nData indexes structure your data in intermediate representations that are easy and performant for LLMs to consume.\\nEngines provide natural language access to your data. For example:\\nQuery engines are powerful retrieval interfaces for knowledge-augmented output.\\nChat engines are conversational interfaces for multi-message, “back and forth” interactions with your data.\\nData agents are LLM-powered knowledge workers augmented by tools, from simple helper functions to API integrations and more.\\nApplication integrations tie LlamaIndex back into the rest of your ecosystem. This could be LangChain, Flask, Docker, ChatGPT, or… anything else!\\n👨\\u200d👩\\u200d👧\\u200d👦 Who is LlamaIndex for?\\uf0c1\\nLlamaIndex provides tools for beginners, advanced users, and everyone in between.\\nOur high-level API allows beginner users to use LlamaIndex to ingest and query their data in 5 lines of code.\\nFor more complex applications, our lower-level APIs allow advanced users to customize and extend any module—data connectors, indices, retrievers, query engines, reranking modules—to fit their needs.\\nGetting Started\\uf0c1\\nTo install the library:\\npip install llama-index\\nWe recommend starting at how to read these docs, which will point you to the right place based on your experience level.\\n🗺️ Ecosystem\\uf0c1\\nTo download or contribute, find LlamaIndex on:\\nGithub: https://github.com/jerryjliu/llama_index\\nPyPi:\\nLlamaIndex: https://pypi.org/project/llama-index/.\\nGPT Index (duplicate): https://pypi.org/project/gpt-index/.\\nNPM (Typescript/Javascript):\\nGithub: https://github.com/run-llama/LlamaIndexTS\\nDocs: https://ts.llamaindex.ai/\\nLlamaIndex.TS: https://www.npmjs.com/package/llamaindex\\nAssociated projects\\uf0c1\\n🏡 LlamaHub: https://llamahub.ai | A large (and growing!) collection of custom data connectors\\n🧪 LlamaLab: https://github.com/run-llama/llama-lab | Ambitious projects built on top of LlamaIndex', start_char_idx=None, end_char_idx=None, text_template='{metadata_str}\\n\\n{content}', metadata_template='{key}: {value}', metadata_seperator='\\n')"
      ]
     },
     "execution_count": 17,
     "metadata": {},
     "output_type": "execute_result"
    }
   ],
   "source": [
    "docs[0]"
   ]
  },
  {
   "cell_type": "code",
   "execution_count": 18,
   "id": "4dc4f05e-50f0-4407-b04c-8fe3fd7e6725",
   "metadata": {
    "tags": []
   },
   "outputs": [
    {
     "data": {
      "text/plain": [
       "8"
      ]
     },
     "execution_count": 18,
     "metadata": {},
     "output_type": "execute_result"
    }
   ],
   "source": [
    "len(docs)"
   ]
  },
  {
   "cell_type": "code",
   "execution_count": 19,
   "id": "6564db30-f56d-49ff-a359-1125eff5a182",
   "metadata": {
    "tags": []
   },
   "outputs": [
    {
     "data": {
      "text/plain": [
       "Document(id_='23866397-0d5f-4e02-b705-a5e6d425319c', embedding=None, metadata={'url': 'https://docs.llamaindex.ai/en/latest/examples/query_engine/sub_question_query_engine.html'}, excluded_embed_metadata_keys=[], excluded_llm_metadata_keys=[], relationships={}, hash='08eb1f1778c927a93d31cf7c99d603416ed32583fdce9c16000074dbe00b0a3f', text='Back to top \\nToggle table of contents sidebar\\nSub Question Query Engine\\uf0c1\\nIn this tutorial, we showcase how to use a sub question query engine to tackle the problem of answering a complex query using multiple data sources.\\nIt first breaks down the complex query into sub questions for each relevant data source, then gather all the intermediate reponses and synthesizes a final response.\\nPreparation\\uf0c1\\nIf you’re opening this Notebook on colab, you will probably need to install LlamaIndex 🦙.\\nimport os\\nimport openai\\n\\nos.environ[\"OPENAI_API_KEY\"] = \"sk-...\"\\nopenai.api_key = os.environ[\"OPENAI_API_KEY\"]\\n\\nimport nest_asyncio\\n\\nnest_asyncio.apply()\\nfrom llama_index import VectorStoreIndex, SimpleDirectoryReader\\nfrom llama_index.tools import QueryEngineTool, ToolMetadata\\nfrom llama_index.query_engine import SubQuestionQueryEngine\\nfrom llama_index.callbacks import CallbackManager, LlamaDebugHandler\\nfrom llama_index import ServiceContext\\n# Using the LlamaDebugHandler to print the trace of the sub questions\\n# captured by the SUB_QUESTION callback event type\\nllama_debug = LlamaDebugHandler(print_trace_on_end=True)\\ncallback_manager = CallbackManager([llama_debug])\\nservice_context = ServiceContext.from_defaults(\\n    callback_manager=callback_manager\\n)\\nDownload Data\\uf0c1\\n!mkdir -p \\'data/paul_graham/\\'\\n!wget \\'https://raw.githubusercontent.com/run-llama/llama_index/main/docs/examples/data/paul_graham/paul_graham_essay.txt\\' -O \\'data/paul_graham/paul_graham_essay.txt\\'\\n# load data\\npg_essay = SimpleDirectoryReader(input_dir=\"./data/paul_graham/\").load_data()\\n\\n# build index and query engine\\nvector_query_engine = VectorStoreIndex.from_documents(\\n    pg_essay, use_async=True, service_context=service_context\\n).as_query_engine()\\n**********\\nTrace: index_construction\\n    |_node_parsing ->  0.394271 seconds\\n      |_chunking ->  0.393344 seconds\\n    |_embedding ->  0.753133 seconds\\n    |_embedding ->  0.749828 seconds\\n**********\\nSetup sub question query engine\\uf0c1\\n# setup base query engine as tool\\nquery_engine_tools = [\\n    QueryEngineTool(\\n        query_engine=vector_query_engine,\\n        metadata=ToolMetadata(\\n            name=\"pg_essay\",\\n            description=\"Paul Graham essay on What I Worked On\",\\n        ),\\n    ),\\n]\\n\\nquery_engine = SubQuestionQueryEngine.from_defaults(\\n    query_engine_tools=query_engine_tools,\\n    service_context=service_context,\\n    use_async=True,\\n)\\nRun queries\\uf0c1\\nresponse = query_engine.query(\\n    \"How was Paul Grahams life different before, during, and after YC?\"\\n)\\nGenerated 3 sub questions.\\n[pg_essay] Q: What did Paul Graham do before YC?\\n[pg_essay] Q: What did Paul Graham do during YC?\\n[pg_essay] Q: What did Paul Graham do after YC?\\n[pg_essay] A: \\nBefore YC, Paul Graham was a hacker, writer, and worked on Arc, a programming language. He also wrote essays and worked on other projects.\\n[pg_essay] A: \\nPaul Graham stopped working on YC in March 2014 and began painting. He spent most of the rest of the year painting and then in November he ran out of steam and stopped. He then began writing essays again and in March 2015 he started working on Lisp again.\\n[pg_essay] A: \\nPaul Graham worked on YC in a variety of ways. He wrote essays, worked on internal software in Arc, and created Hacker News. He also helped select and support founders, dealt with disputes between cofounders, and fought with people who maltreated the startups. He worked hard even at the parts he didn\\'t like, and was determined to make YC a success. In 2010, he was offered unsolicited advice to make sure YC wasn\\'t the last cool thing he did, which set him thinking about his future. In 2012, he decided to hand YC over to someone else and recruited Sam Altman to take over. He worked on YC until March 2014, when his mother passed away, and then he checked out completely.\\n**********\\nTrace: query\\n    |_query ->  13.064431 seconds\\n      |_llm ->  2.499768 seconds\\n      |_sub_question ->  2.05934 seconds\\n        |_query ->  2.059142 seconds\\n          |_retrieve ->  0.278184 seconds\\n            |_embedding ->  0.274593 seconds\\n          |_synthesize ->  1.780895 seconds\\n            |_llm ->  1.740488 seconds\\n      |_sub_question ->  5.364061 seconds\\n        |_query ->  5.363695 seconds\\n          |_retrieve ->  0.230257 seconds\\n            |_embedding ->  0.226763 seconds\\n          |_synthesize ->  5.133343 seconds\\n            |_llm ->  5.091069 seconds\\n      |_sub_question ->  2.148964 seconds\\n        |_query ->  2.14889 seconds\\n          |_retrieve ->  0.323438 seconds\\n            |_embedding ->  0.319841 seconds\\n          |_synthesize ->  1.825401 seconds\\n            |_llm ->  1.783064 seconds\\n      |_synthesize ->  5.198214 seconds\\n        |_llm ->  5.175849 seconds\\n**********\\nBefore YC, Paul Graham was a hacker, writer, and worked on Arc, a programming language. During YC, he wrote essays, worked on internal software in Arc, and created Hacker News. He also helped select and support founders, dealt with disputes between cofounders, and fought with people who maltreated the startups. After YC, Paul Graham stopped working on YC and began painting. He then began writing essays again and in March 2015 he started working on Lisp again. Paul Graham\\'s life was different before, during, and after YC in that he changed his focus from programming and writing to painting and then back to programming and writing.\\n# iterate through sub_question items captured in SUB_QUESTION event\\nfrom llama_index.callbacks.schema import CBEventType, EventPayload\\n\\nfor i, (start_event, end_event) in enumerate(\\n    llama_debug.get_event_pairs(CBEventType.SUB_QUESTION)\\n):\\n    qa_pair = end_event.payload[EventPayload.SUB_QUESTION]\\n    print(\"Sub Question \" + str(i) + \": \" + qa_pair.sub_q.sub_question.strip())\\n    print(\"Answer: \" + qa_pair.answer.strip())\\n    print(\"====================================\")\\nSub Question 0: What did Paul Graham do before YC?\\nAnswer: Before YC, Paul Graham was a hacker, writer, and worked on Arc, a programming language. He also wrote essays and worked on other projects.\\n====================================\\nSub Question 1: What did Paul Graham do during YC?\\nAnswer: Paul Graham worked on YC in a variety of ways. He wrote essays, worked on internal software in Arc, and created Hacker News. He also helped select and support founders, dealt with disputes between cofounders, and fought with people who maltreated the startups. He worked hard even at the parts he didn\\'t like, and was determined to make YC a success. In 2010, he was offered unsolicited advice to make sure YC wasn\\'t the last cool thing he did, which set him thinking about his future. In 2012, he decided to hand YC over to someone else and recruited Sam Altman to take over. He worked on YC until March 2014, when his mother passed away, and then he checked out completely.\\n====================================\\nSub Question 2: What did Paul Graham do after YC?\\nAnswer: Paul Graham stopped working on YC in March 2014 and began painting. He spent most of the rest of the year painting and then in November he ran out of steam and stopped. He then began writing essays again and in March 2015 he started working on Lisp again.\\n====================================', start_char_idx=None, end_char_idx=None, text_template='{metadata_str}\\n\\n{content}', metadata_template='{key}: {value}', metadata_seperator='\\n')"
      ]
     },
     "execution_count": 19,
     "metadata": {},
     "output_type": "execute_result"
    }
   ],
   "source": [
    "docs[7]"
   ]
  },
  {
   "cell_type": "code",
   "execution_count": 20,
   "id": "af6ecb8b-2776-4a5e-9e6a-ed9264fe3157",
   "metadata": {},
   "outputs": [
    {
     "name": "stdout",
     "output_type": "stream",
     "text": [
      "Current Time = 21:50:08\n"
     ]
    }
   ],
   "source": [
    "from datetime import datetime\n",
    "\n",
    "now = datetime.now()\n",
    "\n",
    "current_time = now.strftime(\"%H:%M:%S\")\n",
    "print(\"Current Time =\", current_time)"
   ]
  }
 ],
 "metadata": {
  "kernelspec": {
   "display_name": "Python 3 (ipykernel)",
   "language": "python",
   "name": "python3"
  },
  "language_info": {
   "codemirror_mode": {
    "name": "ipython",
    "version": 3
   },
   "file_extension": ".py",
   "mimetype": "text/x-python",
   "name": "python",
   "nbconvert_exporter": "python",
   "pygments_lexer": "ipython3",
   "version": "3.9.18"
  }
 },
 "nbformat": 4,
 "nbformat_minor": 5
}
