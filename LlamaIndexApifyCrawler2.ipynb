{
 "cells": [
  {
   "cell_type": "code",
   "execution_count": 1,
   "id": "7a92097e-ff9e-4710-a8c8-99b3eb78fdf7",
   "metadata": {
    "tags": []
   },
   "outputs": [],
   "source": [
    "from llama_index import download_loader\n",
    "from llama_index.readers.schema import Document"
   ]
  },
  {
   "cell_type": "code",
   "execution_count": 2,
   "id": "e8ed2828-c0c1-46f5-b0c7-6c477fe80e9c",
   "metadata": {
    "tags": []
   },
   "outputs": [],
   "source": [
    "def tranform_dataset_item(item):\n",
    "    return Document(\n",
    "        text=item.get(\"text\"),\n",
    "        extra_info={\n",
    "            \"url\": item.get(\"url\"),\n",
    "        },\n",
    "    )"
   ]
  },
  {
   "cell_type": "code",
   "execution_count": 3,
   "id": "f916b107-4d1f-4aa1-aa61-94b3272b841b",
   "metadata": {
    "tags": []
   },
   "outputs": [],
   "source": [
    "ApifyActor = download_loader(\"ApifyActor\")"
   ]
  },
  {
   "cell_type": "code",
   "execution_count": null,
   "id": "f48d2012-3951-478a-aefe-4287263b666c",
   "metadata": {},
   "outputs": [],
   "source": [
    "apify_api_key = \"\""
   ]
  },
  {
   "cell_type": "code",
   "execution_count": 4,
   "id": "cfa71978-0a00-4536-ac0d-6b68aae02f49",
   "metadata": {
    "tags": []
   },
   "outputs": [],
   "source": [
    "reader = ApifyActor(apify_api_key)"
   ]
  },
  {
   "cell_type": "code",
   "execution_count": 6,
   "id": "0f48ec97-751a-4bf0-8895-2e2519bd6c05",
   "metadata": {
    "tags": []
   },
   "outputs": [],
   "source": [
    "documents = reader.load_data(\n",
    "    actor_id=\"apify/website-content-crawler\",\n",
    "    run_input={\"startUrls\": [{\"url\": \"https://docs.cloudera.com/machine-learning/1.5.2/index.html\"}]},\n",
    "    dataset_mapping_function=tranform_dataset_item,\n",
    ")"
   ]
  },
  {
   "cell_type": "code",
   "execution_count": 9,
   "id": "9757a7c7-bf49-4024-b2bc-f5762fcd7d81",
   "metadata": {
    "tags": []
   },
   "outputs": [
    {
     "data": {
      "text/plain": [
       "Document(id_='adeaedd8-6e95-4b1a-9071-cd37b78d690a', embedding=None, metadata={'url': 'https://docs.cloudera.com/machine-learning/1.5.2/index.html'}, excluded_embed_metadata_keys=[], excluded_llm_metadata_keys=[], relationships={}, hash='bcacc6403085bc4e93c1ae4d42900c62b9e2d015ac828e92a10ed60f6f9f42a5', text='CDP Private Cloud Data Services Release Notes\\nCDP Private Cloud Data Services Release Summary\\nDownload a zip of PDFs\\nCloudera Machine Learning, Cloudera’s platform for machine learning and AI, is now available on CDP Private Cloud. Cloudera Machine Learning unifies self-service data science and data engineering in a single, portable service as part of an enterprise data cloud for multi-function analytics on data anywhere.\\nOrganizations can now build and deploy machine learning and AI capabilities for business at scale, efficiently and securely. Cloudera Machine Learning on Private Cloud is built for the agility and power of cloud computing, but operates inside your private and secure data center.', start_char_idx=None, end_char_idx=None, text_template='{metadata_str}\\n\\n{content}', metadata_template='{key}: {value}', metadata_seperator='\\n')"
      ]
     },
     "execution_count": 9,
     "metadata": {},
     "output_type": "execute_result"
    }
   ],
   "source": [
    "documents[0]"
   ]
  },
  {
   "cell_type": "code",
   "execution_count": null,
   "id": "ec117268-d4f4-471d-b391-93ad3490a019",
   "metadata": {
    "tags": []
   },
   "outputs": [],
   "source": [
    "import pickle "
   ]
  },
  {
   "cell_type": "code",
   "execution_count": null,
   "id": "38b5d35e-d6b9-4293-a443-38030965d1fd",
   "metadata": {
    "tags": []
   },
   "outputs": [],
   "source": [
    "with open('documents.pkl', 'wb') as outp:\n",
    "    pickle.dump(documents, outp, pickle.HIGHEST_PROTOCOL)"
   ]
  },
  {
   "cell_type": "code",
   "execution_count": null,
   "id": "b1abfe10-dc0f-40a9-9011-c0c399b4a5b8",
   "metadata": {
    "tags": []
   },
   "outputs": [],
   "source": [
    "with open('documents.pkl', 'rb') as pickle_file:\n",
    "    docs = pickle.load(pickle_file)"
   ]
  },
  {
   "cell_type": "code",
   "execution_count": null,
   "id": "996520be-0791-4da4-b203-bf1f2292d004",
   "metadata": {},
   "outputs": [],
   "source": []
  }
 ],
 "metadata": {
  "kernelspec": {
   "display_name": "Python 3 (ipykernel)",
   "language": "python",
   "name": "python3"
  },
  "language_info": {
   "codemirror_mode": {
    "name": "ipython",
    "version": 3
   },
   "file_extension": ".py",
   "mimetype": "text/x-python",
   "name": "python",
   "nbconvert_exporter": "python",
   "pygments_lexer": "ipython3",
   "version": "3.9.18"
  }
 },
 "nbformat": 4,
 "nbformat_minor": 5
}
